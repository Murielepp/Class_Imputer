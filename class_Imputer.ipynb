{
 "cells": [
  {
   "attachments": {},
   "cell_type": "markdown",
   "metadata": {},
   "source": [
    "# CREATION D'UNE CLASSE\n",
    "\n",
    "### OBJECTIF : remplacer les valeurs nulles d'une liste par la **_moyenne_** ou la **_médiane_**"
   ]
  },
  {
   "cell_type": "code",
   "execution_count": 7,
   "metadata": {},
   "outputs": [],
   "source": [
    "class Imputer() :\n",
    "    \n",
    "    def __init__(self, data):   # initialisation de la classe Imputer\n",
    "        self.list = data\n",
    "\n",
    "    def replace_avg (self) :    # fonction qui remplace les valeurs nulles d'une liste par la moyenne\n",
    "        sum_values = 0\n",
    "        nb_values = 0\n",
    "\n",
    "        print(f\"La liste initiale est : {self.list}\")  # affiche la liste initiale\n",
    "\n",
    "        for elt in self.list:       # boucle permettant d'obtenir le nombre et somme totale des valeurs non nulles\n",
    "            if elt != None :\n",
    "                sum_values+= elt\n",
    "                nb_values+=1\n",
    "        replace = sum_values/nb_values   \n",
    "        \n",
    "        for i in range(len(self.list)) :    # boucle permettant de remplacer les valeurs vides par la médiane\n",
    "            if self.list[i] == None:\n",
    "                self.list[i]= replace\n",
    "        print (f\"la nouvelle liste est : {self.list}\")              # affiche la liste modifiée\n",
    "\n",
    "    def replace_med(self) :\n",
    "\n",
    "        print (f\"liste initiale : {self.list}\")     # affiche la liste initiale\n",
    "        new_list = [] \n",
    "        nb = 0\n",
    "        \n",
    "        for i in self.list :                        # création d'une nouvelle liste contenant les valeurs non nulles\n",
    "            if i != None:\n",
    "                new_list.append(i)\n",
    "        new_list.sort()\n",
    "        print (f\"liste sans NONE triée : {new_list}\") # affichage de la nouvelle liste triée par ordre croissant\n",
    "\n",
    "        nb = len(new_list)\n",
    "        index = int(nb/2)                           # calcul de l'index pour le calcul ultérieur de la médiane\n",
    "        print(f\"l'index est : {index}\")             # affiche la valeur de l'index\n",
    "        \n",
    "        if nb%2 != 0 :                              # calcul de la médiane quand le nombre de valeurs est IMPAIR\n",
    "            med = new_list[index]\n",
    "            print (f\"la médiane est {med}\")         # affiche la valeur de la médiane\n",
    "\n",
    "        else :                                      # calcul de la médiane quand le nombre de valeurs est IMPAIR\n",
    "            med = ((new_list[index])+(new_list[index -1]))/2\n",
    "            print (f\"la médiane est {med}\")         # affiche la valeur de la médiane\n",
    "        \n",
    "        for i in range(len(self.list)) :            # boucle permettant de remplacer les valeurs nulles de la liste initiale par la médiane\n",
    "            if self.list[i] == None:\n",
    "                self.list[i]= med\n",
    "        print (f\"Liste finale avec remplacement NONE par médiane : {self.list}\") # affiche la liste initiale modifiée\n",
    "        "
   ]
  },
  {
   "cell_type": "code",
   "execution_count": 9,
   "metadata": {},
   "outputs": [
    {
     "name": "stdout",
     "output_type": "stream",
     "text": [
      "liste initiale : [1, 3, 5, 8, 6]\n",
      "liste sans NONE triée : [1, 3, 5, 6, 8]\n",
      "l'index est : 2\n",
      "la médiane est 5\n",
      "Liste finale avec remplacement NONE par médiane : [1, 3, 5, 8, 6]\n"
     ]
    }
   ],
   "source": [
    "test = Imputer([1,3,5,8,6])\n",
    "test.replace_med()"
   ]
  },
  {
   "cell_type": "code",
   "execution_count": null,
   "metadata": {},
   "outputs": [],
   "source": []
  }
 ],
 "metadata": {
  "kernelspec": {
   "display_name": "Python 3",
   "language": "python",
   "name": "python3"
  },
  "language_info": {
   "codemirror_mode": {
    "name": "ipython",
    "version": 3
   },
   "file_extension": ".py",
   "mimetype": "text/x-python",
   "name": "python",
   "nbconvert_exporter": "python",
   "pygments_lexer": "ipython3",
   "version": "3.9.13"
  },
  "orig_nbformat": 4
 },
 "nbformat": 4,
 "nbformat_minor": 2
}
