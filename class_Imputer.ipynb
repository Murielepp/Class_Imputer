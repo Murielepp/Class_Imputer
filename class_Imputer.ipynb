{
 "cells": [
  {
   "cell_type": "code",
   "execution_count": 7,
   "metadata": {},
   "outputs": [],
   "source": [
    "class Imputer() :\n",
    "    \n",
    "    def __init__(self, data):\n",
    "        self.list = data\n",
    "\n",
    "    def replace_avg (self) :\n",
    "        sum_values = 0\n",
    "        nb_values = 0\n",
    "        for elt in self.list:\n",
    "            if elt != None :\n",
    "                sum_values+= elt\n",
    "                nb_values+=1\n",
    "        replace = sum_values/nb_values   \n",
    "        \n",
    "        for i in range(len(self.list)) :\n",
    "            if self.list[i] == None:\n",
    "                self.list[i]= replace\n",
    "        print (f\"{self.list}\")\n",
    "\n",
    "    def replace_med(self) :\n",
    "\n",
    "        print (f\"liste initiale : {self.list}\")    \n",
    "        new_list = [] \n",
    "        nb = 0\n",
    "        \n",
    "        for i in self.list :\n",
    "            if i != None:\n",
    "                new_list.append(i)\n",
    "        new_list.sort()\n",
    "        print (f\"liste sans NONE triée : {new_list}\")\n",
    "\n",
    "        nb = len(new_list)\n",
    "        index = int(nb/2)\n",
    "        print(f\"l'index est : {index}\")\n",
    "        \n",
    "        if nb%2 != 0 :\n",
    "            med = new_list[index]\n",
    "            print (f\"la médiane est {med}\")\n",
    "\n",
    "        else :\n",
    "            med = ((new_list[index])+(new_list[index -1]))/2\n",
    "            print (f\"la médiane est {med}\")\n",
    "        \n",
    "        for i in range(len(self.list)) :\n",
    "            if self.list[i] == None:\n",
    "                self.list[i]= med\n",
    "        print (f\"Liste finale avec remplacement NONE par médiane : {self.list}\")\n",
    "        "
   ]
  },
  {
   "cell_type": "code",
   "execution_count": 9,
   "metadata": {},
   "outputs": [
    {
     "name": "stdout",
     "output_type": "stream",
     "text": [
      "liste initiale : [1, 3, 5, 8, 6]\n",
      "liste sans NONE triée : [1, 3, 5, 6, 8]\n",
      "l'index est : 2\n",
      "la médiane est 5\n",
      "Liste finale avec remplacement NONE par médiane : [1, 3, 5, 8, 6]\n"
     ]
    }
   ],
   "source": [
    "test = Imputer([1,3,5,8,6])\n",
    "test.replace_med()"
   ]
  },
  {
   "cell_type": "code",
   "execution_count": null,
   "metadata": {},
   "outputs": [],
   "source": []
  }
 ],
 "metadata": {
  "kernelspec": {
   "display_name": "Python 3",
   "language": "python",
   "name": "python3"
  },
  "language_info": {
   "codemirror_mode": {
    "name": "ipython",
    "version": 3
   },
   "file_extension": ".py",
   "mimetype": "text/x-python",
   "name": "python",
   "nbconvert_exporter": "python",
   "pygments_lexer": "ipython3",
   "version": "3.9.13"
  },
  "orig_nbformat": 4
 },
 "nbformat": 4,
 "nbformat_minor": 2
}
